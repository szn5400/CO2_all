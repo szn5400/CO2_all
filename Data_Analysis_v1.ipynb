{
  "nbformat": 4,
  "nbformat_minor": 0,
  "metadata": {
    "colab": {
      "provenance": [],
      "mount_file_id": "1A7BT6FHIoQOpDPIxsXjpo6DRLMFwJ0Kc",
      "authorship_tag": "ABX9TyNOJjw7ra/uCGzmBL1L1/7I",
      "include_colab_link": true
    },
    "kernelspec": {
      "name": "python3",
      "display_name": "Python 3"
    },
    "language_info": {
      "name": "python"
    }
  },
  "cells": [
    {
      "cell_type": "markdown",
      "metadata": {
        "id": "view-in-github",
        "colab_type": "text"
      },
      "source": [
        "<a href=\"https://colab.research.google.com/github/szn5400/CO2_all/blob/main/Data_Analysis_v1.ipynb\" target=\"_parent\"><img src=\"https://colab.research.google.com/assets/colab-badge.svg\" alt=\"Open In Colab\"/></a>"
      ]
    },
    {
      "cell_type": "markdown",
      "source": [
        "The following code is for visualization of the 3D heterogenous toy dataset.\n",
        "\n",
        "Each section has been commented on what it is doing."
      ],
      "metadata": {
        "id": "BFNRCV6z8OQn"
      }
    },
    {
      "cell_type": "markdown",
      "source": [
        "First, we are loading the data as shown below and extracting the un-normalized values of pressure, saturation and water output"
      ],
      "metadata": {
        "id": "Ublh4w2C8b2U"
      }
    },
    {
      "cell_type": "code",
      "execution_count": 1,
      "metadata": {
        "colab": {
          "base_uri": "https://localhost:8080/"
        },
        "id": "xW4x8mIa3E2m",
        "outputId": "12974c94-0dc7-4a8a-c0e5-aa3af5deedfb"
      },
      "outputs": [
        {
          "output_type": "stream",
          "name": "stdout",
          "text": [
            "All files: ['/content/drive/MyDrive/data/k1r1-h.out', '/content/drive/MyDrive/data/k1r2-h.out', '/content/drive/MyDrive/data/k1r3-h.out', '/content/drive/MyDrive/data/k1r4-h.out', '/content/drive/MyDrive/data/k1r5-h.out', '/content/drive/MyDrive/data/k1r6-h.out', '/content/drive/MyDrive/data/k1r7-h.out', '/content/drive/MyDrive/data/k1r8-h.out', '/content/drive/MyDrive/data/k1r9-h.out', '/content/drive/MyDrive/data/k2r1-h.out', '/content/drive/MyDrive/data/k2r2-h.out', '/content/drive/MyDrive/data/k2r3-h.out', '/content/drive/MyDrive/data/k2r4-h.out', '/content/drive/MyDrive/data/k2r5-h.out', '/content/drive/MyDrive/data/k2r6-h.out', '/content/drive/MyDrive/data/k2r7-h.out', '/content/drive/MyDrive/data/k2r8-h.out', '/content/drive/MyDrive/data/k2r9-h.out', '/content/drive/MyDrive/data/k3r1-h.out', '/content/drive/MyDrive/data/k3r2-h.out', '/content/drive/MyDrive/data/k3r3-h.out', '/content/drive/MyDrive/data/k3r4-h.out', '/content/drive/MyDrive/data/k3r5-h.out', '/content/drive/MyDrive/data/k3r6-h.out', '/content/drive/MyDrive/data/k3r7-h.out', '/content/drive/MyDrive/data/k3r8-h.out', '/content/drive/MyDrive/data/k3r9-h.out']\n",
            "Processing file:  /content/drive/MyDrive/data/k1r1-h.out\n",
            "0.0 days\n",
            "count: 71\n",
            "0.0 days\n",
            "count: 71\n",
            "0.0 days\n",
            "count: 71\n",
            "0.0 days\n",
            "count: 71\n",
            "Why all 0.0?\n",
            "Processing file:  /content/drive/MyDrive/data/k1r2-h.out\n",
            "0.0 days\n",
            "count: 71\n",
            "0.0 days\n",
            "count: 71\n",
            "0.0 days\n",
            "count: 71\n",
            "0.0 days\n",
            "count: 71\n",
            "Why all 0.0?\n",
            "Processing file:  /content/drive/MyDrive/data/k1r3-h.out\n",
            "0.0 days\n",
            "count: 71\n",
            "0.0 days\n",
            "count: 71\n",
            "0.0 days\n",
            "count: 71\n",
            "0.0 days\n",
            "count: 71\n",
            "Why all 0.0?\n",
            "Processing file:  /content/drive/MyDrive/data/k1r4-h.out\n",
            "0.0 days\n",
            "count: 71\n",
            "0.0 days\n",
            "count: 71\n",
            "0.0 days\n",
            "count: 71\n",
            "0.0 days\n",
            "count: 71\n",
            "Why all 0.0?\n",
            "Processing file:  /content/drive/MyDrive/data/k1r5-h.out\n",
            "0.0 days\n",
            "count: 71\n",
            "0.0 days\n",
            "count: 71\n",
            "0.0 days\n",
            "count: 71\n",
            "0.0 days\n",
            "count: 71\n",
            "Why all 0.0?\n",
            "Processing file:  /content/drive/MyDrive/data/k1r6-h.out\n",
            "0.0 days\n",
            "count: 71\n",
            "0.0 days\n",
            "count: 71\n",
            "0.0 days\n",
            "count: 71\n",
            "0.0 days\n",
            "count: 71\n",
            "Why all 0.0?\n",
            "Processing file:  /content/drive/MyDrive/data/k1r7-h.out\n",
            "0.0 days\n",
            "count: 71\n",
            "0.0 days\n",
            "count: 71\n",
            "0.0 days\n",
            "count: 71\n",
            "0.0 days\n",
            "count: 71\n",
            "Why all 0.0?\n",
            "Processing file:  /content/drive/MyDrive/data/k1r8-h.out\n",
            "0.0 days\n",
            "count: 71\n",
            "0.0 days\n",
            "count: 71\n",
            "0.0 days\n",
            "count: 71\n",
            "0.0 days\n",
            "count: 71\n",
            "Why all 0.0?\n",
            "Processing file:  /content/drive/MyDrive/data/k1r9-h.out\n",
            "0.0 days\n",
            "count: 71\n",
            "0.0 days\n",
            "count: 71\n",
            "0.0 days\n",
            "count: 71\n",
            "0.0 days\n",
            "count: 71\n",
            "Why all 0.0?\n",
            "Processing file:  /content/drive/MyDrive/data/k2r1-h.out\n",
            "0.0 days\n",
            "count: 71\n",
            "0.0 days\n",
            "count: 71\n",
            "0.0 days\n",
            "count: 71\n",
            "0.0 days\n",
            "count: 71\n",
            "Why all 0.0?\n",
            "Processing file:  /content/drive/MyDrive/data/k2r2-h.out\n",
            "0.0 days\n",
            "count: 71\n",
            "0.0 days\n",
            "count: 71\n",
            "0.0 days\n",
            "count: 71\n",
            "0.0 days\n",
            "count: 71\n",
            "Why all 0.0?\n",
            "Processing file:  /content/drive/MyDrive/data/k2r3-h.out\n",
            "0.0 days\n",
            "count: 71\n",
            "0.0 days\n",
            "count: 71\n",
            "0.0 days\n",
            "count: 71\n",
            "0.0 days\n",
            "count: 71\n",
            "Why all 0.0?\n",
            "Processing file:  /content/drive/MyDrive/data/k2r4-h.out\n",
            "0.0 days\n",
            "count: 71\n",
            "0.0 days\n",
            "count: 71\n",
            "0.0 days\n",
            "count: 71\n",
            "0.0 days\n",
            "count: 71\n",
            "Why all 0.0?\n",
            "Processing file:  /content/drive/MyDrive/data/k2r5-h.out\n",
            "0.0 days\n",
            "count: 71\n",
            "0.0 days\n",
            "count: 71\n",
            "0.0 days\n",
            "count: 71\n",
            "0.0 days\n",
            "count: 71\n",
            "Why all 0.0?\n",
            "Processing file:  /content/drive/MyDrive/data/k2r6-h.out\n",
            "0.0 days\n",
            "count: 71\n",
            "0.0 days\n",
            "count: 71\n",
            "0.0 days\n",
            "count: 71\n",
            "0.0 days\n",
            "count: 71\n",
            "Why all 0.0?\n",
            "Processing file:  /content/drive/MyDrive/data/k2r7-h.out\n",
            "0.0 days\n",
            "count: 71\n",
            "0.0 days\n",
            "count: 71\n",
            "0.0 days\n",
            "count: 71\n",
            "0.0 days\n",
            "count: 71\n",
            "Why all 0.0?\n",
            "Processing file:  /content/drive/MyDrive/data/k2r8-h.out\n",
            "0.0 days\n",
            "count: 71\n",
            "0.0 days\n",
            "count: 71\n",
            "0.0 days\n",
            "count: 71\n",
            "0.0 days\n",
            "count: 71\n",
            "Why all 0.0?\n",
            "Processing file:  /content/drive/MyDrive/data/k2r9-h.out\n",
            "0.0 days\n",
            "count: 71\n",
            "0.0 days\n",
            "count: 71\n",
            "0.0 days\n",
            "count: 71\n",
            "0.0 days\n",
            "count: 71\n",
            "Why all 0.0?\n",
            "Processing file:  /content/drive/MyDrive/data/k3r1-h.out\n",
            "0.0 days\n",
            "count: 71\n",
            "0.0 days\n",
            "count: 71\n",
            "0.0 days\n",
            "count: 71\n",
            "0.0 days\n",
            "count: 71\n",
            "Why all 0.0?\n",
            "Processing file:  /content/drive/MyDrive/data/k3r2-h.out\n",
            "0.0 days\n",
            "count: 71\n",
            "0.0 days\n",
            "count: 71\n",
            "0.0 days\n",
            "count: 71\n",
            "0.0 days\n",
            "count: 71\n",
            "Why all 0.0?\n",
            "Processing file:  /content/drive/MyDrive/data/k3r3-h.out\n",
            "0.0 days\n",
            "count: 71\n",
            "0.0 days\n",
            "count: 71\n",
            "0.0 days\n",
            "count: 71\n",
            "0.0 days\n",
            "count: 71\n",
            "Why all 0.0?\n",
            "Processing file:  /content/drive/MyDrive/data/k3r4-h.out\n",
            "0.0 days\n",
            "count: 71\n",
            "0.0 days\n",
            "count: 71\n",
            "0.0 days\n",
            "count: 71\n",
            "0.0 days\n",
            "count: 71\n",
            "Why all 0.0?\n",
            "Processing file:  /content/drive/MyDrive/data/k3r5-h.out\n",
            "0.0 days\n",
            "count: 71\n",
            "0.0 days\n",
            "count: 71\n",
            "0.0 days\n",
            "count: 71\n",
            "0.0 days\n",
            "count: 71\n",
            "Why all 0.0?\n",
            "Processing file:  /content/drive/MyDrive/data/k3r6-h.out\n",
            "0.0 days\n",
            "count: 71\n",
            "0.0 days\n",
            "count: 71\n",
            "0.0 days\n",
            "count: 71\n",
            "0.0 days\n",
            "count: 71\n",
            "Why all 0.0?\n",
            "Processing file:  /content/drive/MyDrive/data/k3r7-h.out\n",
            "0.0 days\n",
            "count: 71\n",
            "0.0 days\n",
            "count: 71\n",
            "0.0 days\n",
            "count: 71\n",
            "0.0 days\n",
            "count: 71\n",
            "Why all 0.0?\n",
            "Processing file:  /content/drive/MyDrive/data/k3r8-h.out\n",
            "0.0 days\n",
            "count: 71\n",
            "0.0 days\n",
            "count: 71\n",
            "0.0 days\n",
            "count: 71\n",
            "0.0 days\n",
            "count: 71\n",
            "Why all 0.0?\n",
            "Processing file:  /content/drive/MyDrive/data/k3r9-h.out\n",
            "0.0 days\n",
            "count: 71\n",
            "0.0 days\n",
            "count: 71\n",
            "0.0 days\n",
            "count: 71\n",
            "0.0 days\n",
            "count: 71\n",
            "Why all 0.0?\n",
            "Ks [[0]\n",
            " [0]\n",
            " [0]\n",
            " [0]\n",
            " [0]\n",
            " [0]\n",
            " [0]\n",
            " [0]\n",
            " [0]\n",
            " [1]\n",
            " [1]\n",
            " [1]\n",
            " [1]\n",
            " [1]\n",
            " [1]\n",
            " [1]\n",
            " [1]\n",
            " [1]\n",
            " [2]\n",
            " [2]\n",
            " [2]\n",
            " [2]\n",
            " [2]\n",
            " [2]\n",
            " [2]\n",
            " [2]\n",
            " [2]]\n",
            "Rs [[0]\n",
            " [1]\n",
            " [2]\n",
            " [3]\n",
            " [4]\n",
            " [5]\n",
            " [6]\n",
            " [7]\n",
            " [8]\n",
            " [0]\n",
            " [1]\n",
            " [2]\n",
            " [3]\n",
            " [4]\n",
            " [5]\n",
            " [6]\n",
            " [7]\n",
            " [8]\n",
            " [0]\n",
            " [1]\n",
            " [2]\n",
            " [3]\n",
            " [4]\n",
            " [5]\n",
            " [6]\n",
            " [7]\n",
            " [8]]\n",
            "debug2: (27, 71, 25, 25, 3)\n",
            "(27, 72, 25, 25, 3)\n",
            "debug2: (27, 71, 25, 25, 3)\n",
            "(27, 72, 25, 25, 3)\n",
            "debug2: (27, 71, 25, 25, 3)\n",
            "(27, 72, 25, 25, 3)\n",
            "debug2: (27, 71, 25, 25, 3)\n",
            "(27, 71)\n",
            "debug2: (27, 71)\n",
            "(27, 71)\n",
            "27 71 25 25 3\n",
            "(3594375, 7)\n",
            "(3594375, 1)\n",
            "all min at one place: [0. 0. 0. 0. 0. 0. 0.]\n",
            "all max at one place: [1.00e+00 1.00e+00 1.00e+00 1.00e+00 8.14e+01 3.55e-01 9.00e+03]\n",
            "Debug all vals:\n",
            "all training min: [0. 0. 0. 0. 0. 0. 0.]\n",
            "all training max: [1.00e+00 1.00e+00 1.00e+00 1.00e+00 8.14e+01 3.55e-01 9.00e+03]\n",
            "all testing min: [0. 0. 0. 0. 0. 0. 0.]\n",
            "all testing max: [1.00e+00 1.00e+00 1.00e+00 1.00e+00 8.14e+01 3.54e-01 3.00e+03]\n",
            "min and max at training target: [0.] [4945.7]\n",
            "min and max at testing target: [0.] [4583.6]\n",
            "(3195000, 7)\n",
            "(3195000, 1)\n",
            "(399375, 7)\n",
            "(399375, 1)\n"
          ]
        }
      ],
      "source": [
        "# This is code for visulazing the 3D Toy dataset and getting cleared on its structure\n",
        "\n",
        "# Below code sets the path to the dataset. Please set the path as required from your system. The data are available at \"https://github.com/sumedha29/Co2_Sequestration/tree/main/data\"\n",
        "import sys\n",
        "sys.path.append('/content/drive/MyDrive/code/MLP')\n",
        "\n",
        "# The below mentioned files are available in the Git repo. As the file names are self explanatory, 'read_data_unscaled' reads the data from the file\n",
        "# 'read_model' reads the model from that file. The models are MLP STT, MLP MTT and MLP PINN\n",
        "# 'data_to_numpy_unscaled' converts the read data to numpy arrays, without scaling\n",
        "# \n",
        "from read_data_unscaled import read\n",
        "import os\n",
        "import numpy as np\n",
        "import glob\n",
        "import collections\n",
        "from read_model import MLP_single\n",
        "from data_to_numpy_unscaled import numpy_single\n",
        "from data_to_numpy_raw import numpy_single_raw\n",
        "\n",
        "#read data\n",
        "all_pressures,all_saturations,all_permeabilities,all_porosities,all_surf_inj_rate_series,all_surf_prod_rate_series,Ks,Rs = read()\n",
        "\n",
        "\n",
        "features1_tr_raw,target1_tr_raw,features1_te_raw,target1_te_raw,permeability_min_raw,permeability_max_raw,porosity_min_raw,porosity_max_raw,surf_inj_rate_min_raw,surf_inj_rate_max_raw,min_target_raw,max_target_raw = numpy_single_raw(all_pressures,all_saturations,all_permeabilities,all_porosities,all_surf_inj_rate_series,all_surf_prod_rate_series,Ks,Rs,all_pressures)\n"
      ]
    },
    {
      "cell_type": "markdown",
      "source": [
        "Raw data has been read. Now plotting Permeability in log scale"
      ],
      "metadata": {
        "id": "ZX7IX42ibU5c"
      }
    },
    {
      "cell_type": "code",
      "source": [
        "import matplotlib.pyplot as plt\n",
        "def display_permeability_data(realization, timestamp, input):\n",
        "  plot_x_target = [[0 for i in range(25)] for j in range(25)]\n",
        "  plot_y_target = [[0 for i in range(25)] for j in range(25)]\n",
        "  plot_z_target = [[0 for i in range(25)] for j in range(25)]\n",
        "\n",
        "  for i in range(25):\n",
        "      for j in range(25):\n",
        "        for k in range(3):\n",
        "          plot_x_target[i][j] = np.log10(input[realization][timestamp][i][j][0])\n",
        "          plot_y_target[i][j] = np.log10(input[realization][timestamp][i][j][1])\n",
        "          plot_z_target[i][j] = np.log10(input[realization][timestamp][i][j][2])\n",
        "\n",
        "  plt.imshow(np.squeeze(plot_x_target), cmap=\"jet\")\n",
        "  plt.title(\"z=1\")\n",
        "  plt.colorbar()\n",
        "  plt.clim(-0.5,2.0)\n",
        "  plt.show()\n",
        "  \n",
        "\n",
        "  plt.imshow(np.squeeze(plot_y_target), cmap=\"jet\")\n",
        "  plt.title(\"z=2\")\n",
        "  plt.colorbar()\n",
        "  plt.clim(-0.5,2.0)\n",
        "  plt.show()\n",
        "\n",
        "  plt.imshow(np.squeeze(plot_z_target), cmap=\"jet\")\n",
        "  plt.title(\"z=3\")\n",
        "  plt.colorbar()\n",
        "  plt.clim(-0.5,2.0)\n",
        "  plt.show()\n",
        "  "
      ],
      "metadata": {
        "id": "NSbXQvf0bTEf"
      },
      "execution_count": 2,
      "outputs": []
    },
    {
      "cell_type": "markdown",
      "source": [
        "You can vary the realization and timestamp as wished, to get the plots of any timestep and realization from 71 timesteps and 27 realizations"
      ],
      "metadata": {
        "id": "mktIWZ4O9Q8I"
      }
    },
    {
      "cell_type": "code",
      "source": [
        "realization = 1\n",
        "timestamp = 60\n",
        "\n",
        "display_permeability_data(realization,timestamp,all_permeabilities)"
      ],
      "metadata": {
        "colab": {
          "base_uri": "https://localhost:8080/",
          "height": 809
        },
        "id": "Xupsowc4cLqk",
        "outputId": "4e915fc1-647e-496f-b99f-d2273796632f"
      },
      "execution_count": 3,
      "outputs": [
        {
          "output_type": "display_data",
          "data": {
            "text/plain": [
              "<Figure size 432x288 with 2 Axes>"
            ],
            "image/png": "[encoded data removed]"
          },
          "metadata": {
            "needs_background": "light"
          }
        },
        {
          "output_type": "display_data",
          "data": {
            "text/plain": [
              "<Figure size 432x288 with 2 Axes>"
            ],
            "image/png": "[encoded data removed]"
          },
          "metadata": {
            "needs_background": "light"
          }
        },
        {
          "output_type": "display_data",
          "data": {
            "text/plain": [
              "<Figure size 432x288 with 2 Axes>"
            ],
            "image/png": "[encoded data removed]"
          },
          "metadata": {
            "needs_background": "light"
          }
        }
      ]
    },
    {
      "cell_type": "markdown",
      "source": [
        "Plotting Porosity for check"
      ],
      "metadata": {
        "id": "M4gh9pa6kECO"
      }
    },
    {
      "cell_type": "code",
      "source": [
        "def display_porosity_data(realization, timestamp, input):\n",
        "  plot_x_target = [[0 for i in range(25)] for j in range(25)]\n",
        "  plot_y_target = [[0 for i in range(25)] for j in range(25)]\n",
        "  plot_z_target = [[0 for i in range(25)] for j in range(25)]\n",
        "\n",
        "  for i in range(25):\n",
        "      for j in range(25):\n",
        "        for k in range(3):\n",
        "          plot_x_target[i][j] = (input[realization][timestamp][i][j][0])\n",
        "          plot_y_target[i][j] = (input[realization][timestamp][i][j][1])\n",
        "          plot_z_target[i][j] = (input[realization][timestamp][i][j][2])\n",
        "\n",
        "  plt.imshow(np.squeeze(plot_x_target), cmap=\"jet\")\n",
        "  plt.title(\"z=1\")\n",
        "  plt.colorbar()\n",
        "  plt.clim(0.0,0.35)\n",
        "  plt.show()\n",
        "  \n",
        "\n",
        "  plt.imshow(np.squeeze(plot_y_target), cmap=\"jet\")\n",
        "  plt.title(\"z=2\")\n",
        "  plt.colorbar()\n",
        "  plt.clim(0.0,0.35)\n",
        "  plt.show()\n",
        "\n",
        "  plt.imshow(np.squeeze(plot_z_target), cmap=\"jet\")\n",
        "  plt.title(\"z=3\")\n",
        "  plt.colorbar()\n",
        "  plt.clim(0.0,0.35)\n",
        "  plt.show()\n",
        "  "
      ],
      "metadata": {
        "id": "Id-LcnhckCvY"
      },
      "execution_count": 5,
      "outputs": []
    },
    {
      "cell_type": "markdown",
      "source": [
        "You can vary the realization and timestamp as wished, to get the plots of any timestep and realization from 71 timesteps and 27 realizations"
      ],
      "metadata": {
        "id": "OqKGe2p19g-2"
      }
    },
    {
      "cell_type": "code",
      "source": [
        "realization = 1\n",
        "timestamp = 60\n",
        "\n",
        "display_porosity_data(realization,timestamp,all_porosities)"
      ],
      "metadata": {
        "colab": {
          "base_uri": "https://localhost:8080/",
          "height": 809
        },
        "id": "ikODnQABmqaT",
        "outputId": "40962281-6e5c-496e-b076-0351bf0c118f"
      },
      "execution_count": 6,
      "outputs": [
        {
          "output_type": "display_data",
          "data": {
            "text/plain": [
              "<Figure size 432x288 with 2 Axes>"
            ],
            "image/png": "[encoded data removed]"
          },
          "metadata": {
            "needs_background": "light"
          }
        },
        {
          "output_type": "display_data",
          "data": {
            "text/plain": [
              "<Figure size 432x288 with 2 Axes>"
            ],
            "image/png": "[encoded data removed]"
          },
          "metadata": {
            "needs_background": "light"
          }
        },
        {
          "output_type": "display_data",
          "data": {
            "text/plain": [
              "<Figure size 432x288 with 2 Axes>"
            ],
            "image/png": "[encoded data removed]"
          },
          "metadata": {
            "needs_background": "light"
          }
        }
      ]
    },
    {
      "cell_type": "markdown",
      "source": [
        "Following plot analyzes if there is any difference between timesteps of permeability\n",
        "\n",
        "Basically, it gets the difference in values between two timesteps of the data to see if there is any variation of the data"
      ],
      "metadata": {
        "id": "0KS3XN4l6eJu"
      }
    },
    {
      "cell_type": "code",
      "source": [
        "def display_permeability_data_dif(realization, i, j, input):\n",
        "  plot_x_target = [0 for j in range(70)]\n",
        "  plot_y_target = [0 for j in range(70)]\n",
        "  plot_z_target = [0 for j in range(70)]\n",
        "\n",
        "  #plot_x_target[0] = 0\n",
        "  #plot_y_target[0] = 0\n",
        "  #plot_z_target[0] = 0\n",
        "\n",
        "  for t in range(1,70):\n",
        "    plot_x_target[t-1] = input[realization][t][i][j][0]-input[realization][t-1][i][j][0]\n",
        "    plot_y_target[t-1] = input[realization][t][i][j][1]-input[realization][t-1][i][j][1]\n",
        "    plot_z_target[t-1] = input[realization][t][i][j][2]-input[realization][t-1][i][j][2]\n",
        "  '''\n",
        "  for i in range(25):\n",
        "      for j in range(25):\n",
        "        for k in range(3):\n",
        "          plot_x_target[i][j] = (input[realization][timestamp][i][j][0])\n",
        "          plot_y_target[i][j] = (input[realization][timestamp][i][j][1])\n",
        "          plot_z_target[i][j] = (input[realization][timestamp][i][j][2])\n",
        "  \n",
        "\n",
        "  plt.imshow(np.squeeze(plot_x_target), cmap=\"jet\")\n",
        "  plt.title(\"z=1\")\n",
        "  plt.colorbar()\n",
        "  plt.clim(0.0,0.35)\n",
        "  plt.show()\n",
        "  \n",
        "\n",
        "  plt.imshow(np.squeeze(plot_y_target), cmap=\"jet\")\n",
        "  plt.title(\"z=2\")\n",
        "  plt.colorbar()\n",
        "  plt.clim(0.0,0.35)\n",
        "  plt.show()\n",
        "\n",
        "  plt.imshow(np.squeeze(plot_z_target), cmap=\"jet\")\n",
        "  plt.title(\"z=3\")\n",
        "  plt.colorbar()\n",
        "  plt.clim(0.0,0.35)\n",
        "  plt.show()\n",
        "  '''\n",
        "  x = np.linspace(start=1,stop=70,num=70)\n",
        "\n",
        "  plt.plot(x,plot_x_target)\n",
        "  plt.title(\"Z=1 errors\")\n",
        "  plt.show()\n",
        "\n",
        "  plt.plot(x,plot_y_target)\n",
        "  plt.title(\"Z=2 errors\")\n",
        "  plt.show()\n",
        "\n",
        "  plt.plot(x,plot_z_target)\n",
        "  plt.title(\"Z=3 errors\")\n",
        "  plt.show()"
      ],
      "metadata": {
        "id": "cCj8lWw76quY"
      },
      "execution_count": 7,
      "outputs": []
    },
    {
      "cell_type": "code",
      "source": [
        "realization = 5\n",
        "i = 15\n",
        "j = 10\n",
        "\n",
        "display_permeability_data_dif(realization,i,j,all_permeabilities)"
      ],
      "metadata": {
        "colab": {
          "base_uri": "https://localhost:8080/",
          "height": 809
        },
        "id": "FH1mkFgj-IkI",
        "outputId": "5c304641-a53b-4ab0-b2c3-7d7062695412"
      },
      "execution_count": 8,
      "outputs": [
        {
          "output_type": "display_data",
          "data": {
            "text/plain": [
              "<Figure size 432x288 with 1 Axes>"
            ],
            "image/png": "[encoded data removed]"
          },
          "metadata": {
            "needs_background": "light"
          }
        },
        {
          "output_type": "display_data",
          "data": {
            "text/plain": [
              "<Figure size 432x288 with 1 Axes>"
            ],
            "image/png": "[encoded data removed]"
          },
          "metadata": {
            "needs_background": "light"
          }
        },
        {
          "output_type": "display_data",
          "data": {
            "text/plain": [
              "<Figure size 432x288 with 1 Axes>"
            ],
            "image/png": "[encoded data removed]"
          },
          "metadata": {
            "needs_background": "light"
          }
        }
      ]
    },
    {
      "cell_type": "markdown",
      "source": [
        "Plotting Differences for Porosity\n"
      ],
      "metadata": {
        "id": "tte24Apx_mo_"
      }
    },
    {
      "cell_type": "code",
      "source": [
        "def display_porosity_data_dif(realization, i, j, input):\n",
        "  plot_x_target = [0 for j in range(70)]\n",
        "  plot_y_target = [0 for j in range(70)]\n",
        "  plot_z_target = [0 for j in range(70)]\n",
        "\n",
        "  #plot_x_target[0] = 0\n",
        "  #plot_y_target[0] = 0\n",
        "  #plot_z_target[0] = 0\n",
        "\n",
        "  for t in range(1,70):\n",
        "    plot_x_target[t-1] = input[realization][t][i][j][0]-input[realization][t-1][i][j][0]\n",
        "    plot_y_target[t-1] = input[realization][t][i][j][1]-input[realization][t-1][i][j][1]\n",
        "    plot_z_target[t-1] = input[realization][t][i][j][2]-input[realization][t-1][i][j][2]\n",
        "  '''\n",
        "  for i in range(25):\n",
        "      for j in range(25):\n",
        "        for k in range(3):\n",
        "          plot_x_target[i][j] = (input[realization][timestamp][i][j][0])\n",
        "          plot_y_target[i][j] = (input[realization][timestamp][i][j][1])\n",
        "          plot_z_target[i][j] = (input[realization][timestamp][i][j][2])\n",
        "  \n",
        "\n",
        "  plt.imshow(np.squeeze(plot_x_target), cmap=\"jet\")\n",
        "  plt.title(\"z=1\")\n",
        "  plt.colorbar()\n",
        "  plt.clim(0.0,0.35)\n",
        "  plt.show()\n",
        "  \n",
        "\n",
        "  plt.imshow(np.squeeze(plot_y_target), cmap=\"jet\")\n",
        "  plt.title(\"z=2\")\n",
        "  plt.colorbar()\n",
        "  plt.clim(0.0,0.35)\n",
        "  plt.show()\n",
        "\n",
        "  plt.imshow(np.squeeze(plot_z_target), cmap=\"jet\")\n",
        "  plt.title(\"z=3\")\n",
        "  plt.colorbar()\n",
        "  plt.clim(0.0,0.35)\n",
        "  plt.show()\n",
        "  '''\n",
        "  x = np.linspace(start=1,stop=70,num=70)\n",
        "\n",
        "  plt.plot(x,plot_x_target)\n",
        "  plt.title(\"Z=1 errors\")\n",
        "  plt.show()\n",
        "\n",
        "  plt.plot(x,plot_y_target)\n",
        "  plt.title(\"Z=2 errors\")\n",
        "  plt.show()\n",
        "\n",
        "  plt.plot(x,plot_z_target)\n",
        "  plt.title(\"Z=3 errors\")\n",
        "  plt.show()"
      ],
      "metadata": {
        "id": "XniDZQJN_r1t"
      },
      "execution_count": 9,
      "outputs": []
    },
    {
      "cell_type": "code",
      "source": [
        "realization = 5\n",
        "i = 15\n",
        "j = 9\n",
        "\n",
        "display_porosity_data_dif(realization,i,j,all_porosities)"
      ],
      "metadata": {
        "colab": {
          "base_uri": "https://localhost:8080/",
          "height": 809
        },
        "id": "rluKFqWkAI-Z",
        "outputId": "d832544d-12a8-4a47-b82d-3c1ac624d72b"
      },
      "execution_count": 10,
      "outputs": [
        {
          "output_type": "display_data",
          "data": {
            "text/plain": [
              "<Figure size 432x288 with 1 Axes>"
            ],
            "image/png": "[encoded data removed]"
          },
          "metadata": {
            "needs_background": "light"
          }
        },
        {
          "output_type": "display_data",
          "data": {
            "text/plain": [
              "<Figure size 432x288 with 1 Axes>"
            ],
            "image/png": "[encoded data removed]"
          },
          "metadata": {
            "needs_background": "light"
          }
        },
        {
          "output_type": "display_data",
          "data": {
            "text/plain": [
              "<Figure size 432x288 with 1 Axes>"
            ],
            "image/png": "[encoded data removed]"
          },
          "metadata": {
            "needs_background": "light"
          }
        }
      ]
    },
    {
      "cell_type": "markdown",
      "source": [
        "Next, you can plot the datapoint magnitude for any number of datachunks by varying the numbers below. I have shown it for gas pressure. The same can be accomplished for other data as required."
      ],
      "metadata": {
        "id": "H1miRymA-E_1"
      }
    },
    {
      "cell_type": "code",
      "source": [
        "import matplotlib.pyplot as plt\n",
        "x = np.linspace(start=0,stop=10,num=133125*5)"
      ],
      "metadata": {
        "id": "Vo61rfqi6YcQ"
      },
      "execution_count": 14,
      "outputs": []
    },
    {
      "cell_type": "code",
      "source": [
        "get_pressure = target1_tr_raw[0:133125*5]\n",
        "plt.plot(x,get_pressure)\n",
        "plt.title(\"pressure original scaled for visualization\")\n",
        "plt.show()"
      ],
      "metadata": {
        "colab": {
          "base_uri": "https://localhost:8080/",
          "height": 281
        },
        "id": "1HW374ds6lzq",
        "outputId": "f56e871c-24f8-46e5-dcab-6c8b25c5a781"
      },
      "execution_count": 15,
      "outputs": [
        {
          "output_type": "display_data",
          "data": {
            "text/plain": [
              "<Figure size 432x288 with 1 Axes>"
            ],
            "image/png": "[encoded data removed]"
          },
          "metadata": {
            "needs_background": "light"
          }
        }
      ]
    },
    {
      "cell_type": "code",
      "source": [],
      "metadata": {
        "id": "J2__BtFu6v8e"
      },
      "execution_count": null,
      "outputs": []
    }
  ]
}